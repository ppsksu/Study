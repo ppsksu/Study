{
 "cells": [
  {
   "cell_type": "markdown",
   "metadata": {},
   "source": [
    "## Python Anaconda 가상환경 옮기기"
   ]
  },
  {
   "cell_type": "markdown",
   "metadata": {},
   "source": [
    "윈도우에서 파이썬 아나콘다 패키지를 사용하고 있을 경우\n",
    "아나콘다를 이용해서 가상환경 설정하기"
   ]
  },
  {
   "cell_type": "markdown",
   "metadata": {},
   "source": [
    "### 1. 가상환경 조회하기\n",
    "\n",
    "conda info --envs\n",
    "\n",
    "가상환경 리스트가 나오고 * (ASTERISK) 가 나오는 곳이 현재 파이썬 환경을 나타낸다"
   ]
  },
  {
   "cell_type": "markdown",
   "metadata": {},
   "source": [
    "### 2. 가상환경 변경하기\n",
    "\n",
    "activate 가상환경명칭\n",
    "\n",
    "예) envscraping 이라는 가상환경으로 파이썬 환경을 변경한다\n",
    "\n",
    "* 표시가 envscraping 이라는 환경으로 변경되어서 표시되고 있음"
   ]
  },
  {
   "cell_type": "markdown",
   "metadata": {},
   "source": [
    "### 3. 가상환경 만들기\n",
    "\n",
    "conda create --name 가상환경명칭 python=3\n",
    "\n",
    "가상환경을 새로 만들기 python=3 는 파이썬3 환경으로 만드는 옵션임"
   ]
  },
  {
   "cell_type": "markdown",
   "metadata": {},
   "source": [
    "### 4. 가상환경 해제하기\n",
    "\n",
    "deactivate 가상환경명칭\n"
   ]
  },
  {
   "cell_type": "markdown",
   "metadata": {},
   "source": [
    "### 5. 가상환경 지우기\n",
    "\n",
    "conda remove 가상환경명칭"
   ]
  },
  {
   "cell_type": "markdown",
   "metadata": {},
   "source": [
    "### 6. 만들어 놓은 가상환경을 복사하기\n",
    "\n",
    "conda env export -n 가상환경명칭 > environment.yml\n",
    "\n",
    "가상환경의 환경설정 상태를 environment.yml 파일로 만들어준다"
   ]
  },
  {
   "cell_type": "markdown",
   "metadata": {},
   "source": [
    "### 7. 환경파일로 가상환경을 생성하기\n",
    "\n",
    "conda env create -f environment.yml"
   ]
  }
 ],
 "metadata": {
  "kernelspec": {
   "display_name": "Python 3",
   "language": "python",
   "name": "python3"
  },
  "language_info": {
   "codemirror_mode": {
    "name": "ipython",
    "version": 3
   },
   "file_extension": ".py",
   "mimetype": "text/x-python",
   "name": "python",
   "nbconvert_exporter": "python",
   "pygments_lexer": "ipython3",
   "version": "3.8.5"
  }
 },
 "nbformat": 4,
 "nbformat_minor": 4
}
