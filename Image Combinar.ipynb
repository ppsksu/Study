{
 "cells": [
  {
   "cell_type": "code",
   "execution_count": 1,
   "metadata": {},
   "outputs": [],
   "source": [
    "import cv2\n",
    "import os\n",
    "import numpy as np\n",
    "import shutil"
   ]
  },
  {
   "cell_type": "code",
   "execution_count": 4,
   "metadata": {},
   "outputs": [],
   "source": [
    "# 좌우 이미지 불러오기\n",
    "data_path = \"D:/ksu/New_neck_label_train/train_image/ex/\"\n",
    "save_path = \"./ex2/\"\n",
    "\n",
    "\n",
    "# size 조절 W,H\n",
    "size = (300, 512)"
   ]
  },
  {
   "cell_type": "code",
   "execution_count": 5,
   "metadata": {
    "scrolled": false
   },
   "outputs": [
    {
     "name": "stdout",
     "output_type": "stream",
     "text": [
      "36\n"
     ]
    }
   ],
   "source": [
    "count = 0\n",
    "fileList = os.listdir(data_path)\n",
    "for i in range (len(fileList)):\n",
    "    if i <= 17:        \n",
    "        leftimg = cv2.imread(os.path.join(data_path, fileList[i*2]), cv2.IMREAD_GRAYSCALE) # 흑백출력\n",
    "        rightimg = cv2.imread(os.path.join(data_path, fileList[i*2+1]), cv2.IMREAD_GRAYSCALE)\n",
    "        count +=2\n",
    "        # 사이즈 조정\n",
    "        # leftimg = cv2.resize(leftimg. size)\n",
    "        # rightimg = cv2.resize(rightimg. size)\n",
    "        # 이미지 좌우 합치기\n",
    "        add_img_h = np.hstack((leftimg, rightimg)) # 가로 붙이기\n",
    "        # add_img_v = np.vstack((leftimg, rightimg)) # 세로 붙이기\n",
    "        save_path1 = os.path.dirname(save_path)\n",
    "        save_path2 = os.path.basename(save_path1)\n",
    "        if not os.path.isdir(save_path2):\n",
    "            os.mkdir(save_path2)\n",
    "        if not (os.path.isdir('./ex2')):\n",
    "            os.mkdir('./ex2')\n",
    "        cv2.imwrite(f'{save_path}_d1check_{i}.jpg', add_img_h)\n",
    "        cv2.imshow('leftimg', leftimg)\n",
    "        cv2.imshow('rightimg', rightimg)\n",
    "        cv2.imshow('add_img', add_img_h)\n",
    "\n",
    "        cv2.waitKey(0) # 아무키나 누르면 지나감. 안에 값이 1이면 그냥 지나가지만 키를 눌렀을 때 반응함.\n",
    "        cv2.destroyAllWindows()\n",
    "\n",
    "print(count)\n"
   ]
  },
  {
   "cell_type": "code",
   "execution_count": null,
   "metadata": {},
   "outputs": [],
   "source": []
  }
 ],
 "metadata": {
  "kernelspec": {
   "display_name": "Python 3",
   "language": "python",
   "name": "python3"
  },
  "language_info": {
   "codemirror_mode": {
    "name": "ipython",
    "version": 3
   },
   "file_extension": ".py",
   "mimetype": "text/x-python",
   "name": "python",
   "nbconvert_exporter": "python",
   "pygments_lexer": "ipython3",
   "version": "3.7.9"
  }
 },
 "nbformat": 4,
 "nbformat_minor": 4
}
