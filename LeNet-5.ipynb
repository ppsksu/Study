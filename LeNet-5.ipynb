{
 "cells": [
  {
   "cell_type": "markdown",
   "metadata": {},
   "source": [
    "# LeNet-5"
   ]
  },
  {
   "cell_type": "markdown",
   "metadata": {},
   "source": [
    "LeNet은 CNN을 처음으로 개발한 얀 르쿤(Yann Lecun) 연구팀이 1998년에 개발한 CNN 알고리즘의 이름이다.\n",
    "original 논문 제목은 \"Gradient-based learning applied to document recognition\"이다.\n",
    "\n",
    "![이미지](https://t1.daumcdn.net/cfile/tistory/99170D4C5C7E21250E)\n",
    "그림1. LeNet-5의 구조\n",
    "\n",
    "INPUT, 3개의 컨볼루션 레이어(C1, C3, C5), 2개의 서브샘플링 레이어(S2, S4), 1층의 full-connected 레이어(F6), OUTPUT 레이어로 구성되어 있다. 참고로 C!부터 F6까지 활성화 함수 tanh을 사용한다.\n",
    "\n",
    "**1) C1 레이어:** 입력 영상(여기서는 32x32 사이즈의 이미지)을 6개의 5x5 필터의 컨볼루션 연산을 해준다. 그 결과 6장의 28x28 특성 맵을 얻게 된다.\n",
    "\n",
    "```훈련해야할 파라미터 개수: (가중치*입력맵개수 + 바이어스)*특성맵개수 = (5*5*1+1)*6 = 156```\n",
    "\n",
    "**2) S2 레이어:** 6장의 28x28 특성 맵에 대해 서브샘플링을 진행한다. 결과적으로 28x28 사이즈의 특성 맵이 14x14 사이즈의 특성맵으로 축소된다. 2x2 필터를 stride 2로 설정해서 서브샘플링해주기 때문이다. 사용하는 서브샘플링 방법은 평균 풀링(average pooling)이다.\n",
    "\n",
    "```훈련해야할 파라미터 개수: (가중치 + 바이어스)*특성맵개수 = (1+1)*6 = 12```\n",
    "\n",
    "평균풀링인데 왜 훈련해야할 파라미터가 필요한지 의아할 수 있는데, original 논문에 의하면 평균을 낸 후에 한 개의 훈련가능한 가중치(trainable weight)를 곱해주고 또 한 개의 훈련가능한 바이어스(trainable bias)를 더해준다고 한다. 그 값이 시그모이드 함수를 통해 활성화된다. 참고로 그 가중치와 바이어스는 시그모이드의 비활성도를 조절해준다고 한다.\n",
    "\n",
    "**3) C3 레이어:** 6장의 14x14 특성맵에 컨볼루션 연산을 수행해서 16장의 10x10 특성맵을 산출해낸다. \n",
    " - 6장의 14x14 특성맵에서 연속된 3장씩을 모아서 5x5x3 사이즈의 필터와 컨볼루션 해준다(그림 열0~5). 6장의 10x10 특성맵이 산출된다.\n",
    " - 6장의 14x14 특성맵에서 연속된 4장씩을 모아서 5x5x4 사이즈의 필터와 컨볼루션 해준다(그림 열6~11). 6장의 10x10 특성맵이 산출된다.\n",
    " - 6장의 14x14 특성맵에서 불연속한 4장씩을 모아서 5x5x4 사이즈의 필터와 컨볼루션 해준다(그림 열12~14). 3장의 10x10 특성맵이 산출된다.\n",
    " - 마지막으로 6장의 14x14 특성맵 모두를 가지고 5x5x6 사이즈의 필터와 컨볼루션 해준다(그림 열15). 1장의 10x10 특성맵이 산출된다. \n",
    " \n",
    " 결과적으로 16장(6+6+3+1)의 10x10 특성맵을 얻게 되었다.\n",
    " \n",
    " ![이미지](https://t1.daumcdn.net/cfile/tistory/9902AD375C7F2B3E1A)\n",
    " 그림2. C3에서 6장의 14x14 특성맵을 조합하는 방법"
   ]
  },
  {
   "cell_type": "markdown",
   "metadata": {},
   "source": [
    "```훈련해야할 파라미터 개수:\n",
    "첫번째그룹 => (가중치*입력맵개수+바이어스)*특성맵 개수 = (5*5*3+1)*6 = 456\n",
    "두번째그룹 => (가중치*입력맵개수+바이어스)*특성맵 개수 = (5*5*4+1)*6 = 606\n",
    "세번째그룹 => (가중치*입력맵개수+바이어스)*특성맵 개수 = (5*5*4+1)*3 = 303\n",
    "네번째그룹 => (가중치*입력맵개수+바이어스)*특성맵 개수 = (5*5*6+1)*1 = 151\n",
    "456+606+303+151=1516```"
   ]
  },
  {
   "cell_type": "markdown",
   "metadata": {},
   "source": [
    "**4) S4 레이어:** 16장의 10x10 특성 맵에 대해서 서브샘플링을 진행해 16장의 5x5 특성 맵으로 축소시킨다.\n",
    "\n",
    "```훈련해야할 파라미터 개수: (가중치 + 바이어스)*특성맵개수 = (1+1)*16 = 32```\n",
    "\n",
    "**5) C5 레이어:** 16장의 5x5 특성 맵을 120개 5x5x16 사이즈의 필터와 컨볼루션 해준다.\n",
    "결과적으로 120개 1x1 특성맵이 산출된다.\n",
    "\n",
    "```훈련해야할 파라미터 개수: (가중치*입력맵개수 + 바이어스)*특성맵개수 = (5*5*16+1)*120 = 48120```\n",
    "\n",
    "**6) F6 레이어:** 84개의 유닛을 가진 피드포워드 신경망이다. C5의 결과를 84개의 유닛에 연결시킨다.\n",
    "\n",
    "```훈련해야할 파라미터 개수: 연결개수 = (입력개수 + 바이어스)*출력개수 = (120+1)*84 = 10164```\n",
    "\n",
    "**7) 아웃풋 레이어:** 10개의 Euclidean radial basis function(RBF) 유닛들로 구성되어있다. 각각 F6의 84개 유닛으로부터 인풋을 받는다. 최종적으로 이미지가 속한 클래스를 알려준다.\n",
    "\n",
    "LeNet-5를 제대로 가동하기 위해 훈련해야할 파라미터는 \n",
    "총 156+12+1516+32+48120+10164=60000개다."
   ]
  },
  {
   "cell_type": "code",
   "execution_count": 1,
   "metadata": {},
   "outputs": [
    {
     "name": "stdout",
     "output_type": "stream",
     "text": [
      "2.4.1\n"
     ]
    }
   ],
   "source": [
    "#!/usr/bin/env python\n",
    "# coding: utf-8\n",
    "\n",
    "import tensorflow as tf\n",
    "print(tf.__version__) # 1.14.0 ---> 2.1.0\n",
    "   \n",
    "gpus = tf.config.experimental.list_physical_devices('GPU')\n",
    "if gpus:\n",
    "  try:\n",
    "    # Currently, memory growth needs to be the same across GPUs\n",
    "    for gpu in gpus:\n",
    "      tf.config.experimental.set_memory_growth(gpu, True)\n",
    "    logical_gpus = tf.config.experimental.list_logical_devices('GPU')\n",
    "    print(len(gpus), \"Physical GPUs,\", len(logical_gpus), \"Logical GPUs\")\n",
    "  except RuntimeError as e:\n",
    "    print(e)\n",
    "from tensorflow.python.client import device_lib\n",
    "from tensorflow import keras\n",
    "    \n",
    "import sys    \n",
    "import os\n",
    "from PIL import Image\n",
    "import numpy as np\n",
    "import pandas as pd\n",
    "import cv2\n",
    "from matplotlib import pyplot as plt\n",
    "from tensorflow.keras.utils import to_categorical\n",
    "from tensorflow.keras import datasets, layers, models\n",
    "from tensorflow.keras.models import Sequential\n",
    "from sklearn.model_selection import train_test_split\n",
    "from sklearn.metrics import confusion_matrix"
   ]
  },
  {
   "cell_type": "code",
   "execution_count": 2,
   "metadata": {},
   "outputs": [],
   "source": [
    "(train_x, train_y), (test_x, test_y) = keras.datasets.mnist.load_data () \n",
    "train_x = train_x / 255.0 \n",
    "test_x = test_x / 255.0\n",
    "train_x = tf.expand_dims (train_x, 3) \n",
    "test_x = tf.expand_dims (test_x, 3)\n",
    "val_x = train_x [: 5000] \n",
    "val_y = train_y [: 5000]"
   ]
  },
  {
   "cell_type": "code",
   "execution_count": 3,
   "metadata": {},
   "outputs": [],
   "source": [
    "lenet_5_model = keras.models.Sequential ([ \n",
    "    keras.layers.Conv2D (6, kernel_size = 5, strides = 1, activation = 'tanh', input_shape = train_x [0] .shape, padding = 'same'), # C1 \n",
    "    keras .layers.AveragePooling2D (), # S2 \n",
    "    keras.layers.Conv2D (16, kernel_size = 5, strides = 1, activation = 'tanh', padding = 'valid'), # C3 \n",
    "    keras.layers.AveragePooling2D (), # S4 \n",
    "    keras.layers.Flatten (), #Flatten \n",
    "    keras.layers.Dense (120, activation = 'tanh'), # C5 \n",
    "    keras.layers.Dense (84, activation = 'tanh'), # F6 \n",
    "    keras.layers.Dense ( 10, activation = 'softmax') # 출력 레이어 \n",
    "])"
   ]
  },
  {
   "cell_type": "code",
   "execution_count": 4,
   "metadata": {},
   "outputs": [],
   "source": [
    "lenet_5_model.compile (optimizer = 'adam', loss = keras.losses.sparse_categorical_crossentropy, metrics = [ 'accuracy'])"
   ]
  },
  {
   "cell_type": "code",
   "execution_count": 5,
   "metadata": {
    "scrolled": true
   },
   "outputs": [
    {
     "name": "stdout",
     "output_type": "stream",
     "text": [
      "Epoch 1/19\n",
      "1875/1875 [==============================] - 12s 6ms/step - loss: 0.4057 - accuracy: 0.8814 - val_loss: 0.1275 - val_accuracy: 0.9596\n",
      "Epoch 2/19\n",
      "1875/1875 [==============================] - 11s 6ms/step - loss: 0.0947 - accuracy: 0.9706 - val_loss: 0.0562 - val_accuracy: 0.9854\n",
      "Epoch 3/19\n",
      "1875/1875 [==============================] - 11s 6ms/step - loss: 0.0623 - accuracy: 0.9803 - val_loss: 0.0478 - val_accuracy: 0.9868\n",
      "Epoch 4/19\n",
      "1875/1875 [==============================] - 11s 6ms/step - loss: 0.0453 - accuracy: 0.9856 - val_loss: 0.0314 - val_accuracy: 0.9904\n",
      "Epoch 5/19\n",
      "1875/1875 [==============================] - 11s 6ms/step - loss: 0.0360 - accuracy: 0.9881 - val_loss: 0.0304 - val_accuracy: 0.9900\n",
      "Epoch 6/19\n",
      "1875/1875 [==============================] - 11s 6ms/step - loss: 0.0251 - accuracy: 0.9921 - val_loss: 0.0204 - val_accuracy: 0.9936\n",
      "Epoch 7/19\n",
      "1875/1875 [==============================] - 11s 6ms/step - loss: 0.0257 - accuracy: 0.9917 - val_loss: 0.0194 - val_accuracy: 0.9934\n",
      "Epoch 8/19\n",
      "1875/1875 [==============================] - 11s 6ms/step - loss: 0.0186 - accuracy: 0.9934 - val_loss: 0.0137 - val_accuracy: 0.9956\n",
      "Epoch 9/19\n",
      "1875/1875 [==============================] - 11s 6ms/step - loss: 0.0174 - accuracy: 0.9946 - val_loss: 0.0169 - val_accuracy: 0.9944\n",
      "Epoch 10/19\n",
      "1875/1875 [==============================] - 11s 6ms/step - loss: 0.0149 - accuracy: 0.9950 - val_loss: 0.0111 - val_accuracy: 0.9968\n",
      "Epoch 11/19\n",
      "1875/1875 [==============================] - 11s 6ms/step - loss: 0.0125 - accuracy: 0.9964 - val_loss: 0.0095 - val_accuracy: 0.9962\n",
      "Epoch 12/19\n",
      "1875/1875 [==============================] - 11s 6ms/step - loss: 0.0152 - accuracy: 0.9948 - val_loss: 0.0102 - val_accuracy: 0.9966\n",
      "Epoch 13/19\n",
      "1875/1875 [==============================] - 11s 6ms/step - loss: 0.0112 - accuracy: 0.9962 - val_loss: 0.0074 - val_accuracy: 0.9980\n",
      "Epoch 14/19\n",
      "1875/1875 [==============================] - 11s 6ms/step - loss: 0.0111 - accuracy: 0.9964 - val_loss: 0.0071 - val_accuracy: 0.9978\n",
      "Epoch 15/19\n",
      "1875/1875 [==============================] - 11s 6ms/step - loss: 0.0103 - accuracy: 0.9969 - val_loss: 0.0078 - val_accuracy: 0.9976\n",
      "Epoch 16/19\n",
      "1875/1875 [==============================] - 11s 6ms/step - loss: 0.0108 - accuracy: 0.9964 - val_loss: 0.0041 - val_accuracy: 0.9986\n",
      "Epoch 17/19\n",
      "1875/1875 [==============================] - 11s 6ms/step - loss: 0.0077 - accuracy: 0.9973 - val_loss: 0.0040 - val_accuracy: 0.9988\n",
      "Epoch 18/19\n",
      "1875/1875 [==============================] - 11s 6ms/step - loss: 0.0078 - accuracy: 0.9974 - val_loss: 0.0061 - val_accuracy: 0.9982\n",
      "Epoch 19/19\n",
      "1875/1875 [==============================] - 11s 6ms/step - loss: 0.0067 - accuracy: 0.9980 - val_loss: 0.0054 - val_accuracy: 0.9982\n"
     ]
    }
   ],
   "source": [
    "hist=lenet_5_model.fit (train_x, train_y, epochs = 19, validation_data = (val_x, val_y))"
   ]
  },
  {
   "cell_type": "code",
   "execution_count": 7,
   "metadata": {},
   "outputs": [
    {
     "data": {
      "image/png": "[encoded data removed]",
      "text/plain": [
       "<Figure size 432x288 with 2 Axes>"
      ]
     },
     "metadata": {
      "needs_background": "light"
     },
     "output_type": "display_data"
    }
   ],
   "source": [
    "fig, loss_ax = plt.subplots()\n",
    "acc_ax = loss_ax.twinx()\n",
    "\n",
    "loss_ax.plot(hist.history['loss'], 'y', label='train loss')\n",
    "loss_ax.plot(hist.history['val_loss'], 'r', label='val loss')\n",
    "acc_ax.plot(hist.history['accuracy'], 'b', label='train accuracy')\n",
    "acc_ax.plot(hist.history['val_accuracy'], 'g', label='val accuracy')\n",
    "\n",
    "loss_ax.set_xlabel('epoch')\n",
    "loss_ax.set_ylabel('loss')\n",
    "acc_ax.set_ylabel('loss')\n",
    "\n",
    "loss_ax.legend(loc='best')\n",
    "acc_ax.legend(loc='best')\n",
    "\n",
    "plt.show()"
   ]
  },
  {
   "cell_type": "code",
   "execution_count": 9,
   "metadata": {},
   "outputs": [],
   "source": [
    "lenet_5_model.save('box.h5')"
   ]
  },
  {
   "cell_type": "code",
   "execution_count": 10,
   "metadata": {},
   "outputs": [
    {
     "name": "stdout",
     "output_type": "stream",
     "text": [
      "313/313 [==============================] - 1s 2ms/step - loss: 0.0560 - accuracy: 0.9866\n"
     ]
    },
    {
     "data": {
      "text/plain": [
       "[0.05599351227283478, 0.9865999817848206]"
      ]
     },
     "execution_count": 10,
     "metadata": {},
     "output_type": "execute_result"
    }
   ],
   "source": [
    "lenet_5_model.evaluate (test_x, test_y)"
   ]
  },
  {
   "cell_type": "code",
   "execution_count": 11,
   "metadata": {},
   "outputs": [
    {
     "name": "stdout",
     "output_type": "stream",
     "text": [
      "test_pre : [5.6722448e-12 8.7337160e-09 2.5752794e-08 1.8155687e-07 1.0042312e-07\n",
      " 5.4987931e-10 1.8081623e-15 9.9999917e-01 1.7199271e-10 4.3544671e-07]\n",
      "test_y : 7\n",
      "7\n"
     ]
    }
   ],
   "source": [
    "test_pre=lenet_5_model.predict (test_x)\n",
    "print(\"test_pre :\", test_pre[0])\n",
    "# print(\"pre_label :\", np.argmax(test_pre[10]))\n",
    "print(\"test_y :\", test_y[0])\n",
    "print(np.argmax(test_pre[0]))"
   ]
  },
  {
   "cell_type": "code",
   "execution_count": 12,
   "metadata": {},
   "outputs": [],
   "source": [
    "def predict_img(test_path):\n",
    "    \n",
    "    test_datas = []\n",
    "    img = Image.open(test_path).convert('L')\n",
    "    resize_img = img.resize((28, 28))\n",
    "    img_cv = np.array(resize_img)\n",
    "    test_datas.append(img_cv)\n",
    "\n",
    "       \n",
    "    np_data = np.array(test_datas)\n",
    "\n",
    "    \n",
    "    d_size = np_data.shape[0]\n",
    "    d_width = np_data.shape[1]\n",
    "    d_height = np_data.shape[2]\n",
    "    d_rgb = 1\n",
    "    \n",
    "    test_size = np_data.shape[0]\n",
    "    \n",
    "    \n",
    "    X_test1 = np_data.reshape((test_size, d_width, d_height, 1))\n",
    "    X_test1 = X_test1 / 255.0\n",
    "\n",
    "    \n",
    "\n",
    "    test_pre = lenet_5_model.predict(X_test1)\n",
    "    print(\"test_pre :\", test_pre[0])\n",
    "    print(\"pre_label :\", np.argmax(test_pre[0]))\n",
    "    plt.imshow(cv2.cvtColor(np_data[0], cv2.COLOR_BGR2RGB))\n",
    "    plt.axis(\"off\")\n",
    "    plt.show()"
   ]
  },
  {
   "cell_type": "code",
   "execution_count": 13,
   "metadata": {},
   "outputs": [
    {
     "name": "stdout",
     "output_type": "stream",
     "text": [
      "testPath : D:/ksu/Box/0.jpg\n",
      "[[[234 232 232 236 232 232 233 228 222 220 221 214 210 210 207 218 224\n",
      "   222 226 228 224 220 225 230 230 228 228 230]\n",
      "  [234 235 236 233 230 232 233 226 215 196 171 162 157 155 156 170 184\n",
      "   197 212 220 221 228 230 232 236 234 231 230]\n",
      "  [236 233 233 236 231 228 226 221 211 192 163 140 130 132 143 155 162\n",
      "   163 175 183 191 210 220 227 233 230 225 222]\n",
      "  [235 234 233 234 230 227 223 213 210 201 177 171 166 165 178 188 188\n",
      "   177 178 179 183 193 209 222 228 227 225 225]\n",
      "  [234 233 235 235 215 198 184 171 166 162 158 162 158 154 161 173 181\n",
      "   184 191 195 198 200 212 224 232 231 231 231]\n",
      "  [234 234 235 234 206 181 162 142 125 120 130 134 137 141 140 145 151\n",
      "   157 164 174 188 202 214 224 234 232 226 221]\n",
      "  [233 234 233 228 212 198 183 158 136 128 139 149 164 177 174 164 153\n",
      "   144 136 141 160 187 204 217 228 224 210 199]\n",
      "  [234 233 231 226 213 200 188 175 160 158 177 187 194 198 198 190 179\n",
      "   170 163 162 168 185 196 208 220 213 200 189]\n",
      "  [233 237 235 219 206 194 185 181 180 182 193 208 208 202 207 200 186\n",
      "   171 168 170 176 185 197 209 217 210 200 192]\n",
      "  [233 238 233 211 191 177 165 148 165 184 190 202 210 213 213 206 189\n",
      "   167 166 171 179 190 202 212 216 215 215 216]\n",
      "  [235 237 233 219 205 197 191 179 179 186 197 207 216 220 211 208 203\n",
      "   193 175 165 165 171 187 203 213 217 222 225]\n",
      "  [233 234 231 226 218 200 180 169 164 169 184 196 209 217 218 215 209\n",
      "   205 188 174 167 176 190 206 220 224 226 226]\n",
      "  [234 237 231 210 195 173 152 142 143 158 184 196 209 216 210 208 200\n",
      "   186 171 160 156 159 172 191 210 219 223 225]\n",
      "  [234 236 229 207 191 168 146 140 148 165 187 207 212 209 205 203 194\n",
      "   176 167 154 143 150 168 190 210 217 219 221]\n",
      "  [234 235 231 218 200 178 159 151 151 159 175 199 210 211 215 209 196\n",
      "   177 161 143 133 150 171 194 213 221 225 227]\n",
      "  [233 235 233 224 206 188 175 167 155 154 168 187 205 218 224 216 204\n",
      "   190 166 150 146 159 173 190 209 221 229 233]\n",
      "  [233 233 228 216 205 191 179 175 171 170 178 192 205 212 216 214 209\n",
      "   202 189 178 171 173 179 191 207 216 223 225]\n",
      "  [234 238 229 203 185 164 144 135 140 152 168 187 201 208 203 206 196\n",
      "   168 145 137 140 143 165 188 203 214 223 227]\n",
      "  [232 234 233 227 213 195 176 159 150 151 162 187 208 219 214 209 199\n",
      "   181 158 136 127 143 170 194 205 219 223 220]\n",
      "  [236 236 234 229 217 213 211 190 180 177 177 184 196 206 209 214 212\n",
      "   201 184 173 172 184 188 197 214 221 223 222]\n",
      "  [231 232 232 229 225 212 191 167 155 149 147 160 178 197 208 202 189\n",
      "   173 157 148 149 156 178 200 213 214 220 227]\n",
      "  [235 234 233 229 224 221 213 178 163 157 152 146 153 167 180 179 176\n",
      "   172 157 141 132 145 152 167 196 209 217 220]\n",
      "  [236 236 232 225 228 220 201 175 160 153 149 160 174 182 180 170 161\n",
      "   157 157 155 159 182 184 188 204 212 216 216]\n",
      "  [233 236 233 225 225 215 197 181 169 161 158 172 180 179 164 156 148\n",
      "   140 147 164 185 205 213 217 222 227 224 218]\n",
      "  [233 236 235 227 224 218 210 200 189 181 175 164 157 151 139 146 151\n",
      "   149 162 185 206 210 216 223 229 233 229 222]\n",
      "  [235 234 233 231 233 224 209 201 188 178 170 157 149 146 147 154 162\n",
      "   172 196 217 229 223 223 227 229 226 226 227]\n",
      "  [235 233 233 236 234 227 214 196 181 171 170 175 171 163 167 166 166\n",
      "   176 198 212 218 221 220 224 232 227 228 232]\n",
      "  [234 234 234 234 235 230 224 227 221 217 222 224 220 213 208 210 211\n",
      "   207 213 222 229 228 225 226 233 224 219 218]]]\n",
      "test_pre : [8.5628335e-06 1.6119394e-11 1.1165686e-07 9.3134131e-06 4.6504218e-09\n",
      " 3.7741682e-08 2.2447573e-06 2.3726651e-11 9.9997902e-01 7.0173087e-07]\n",
      "pre_label : 8\n"
     ]
    },
    {
     "data": {
      "image/png": "[encoded data removed]",
      "text/plain": [
       "<Figure size 432x288 with 1 Axes>"
      ]
     },
     "metadata": {
      "needs_background": "light"
     },
     "output_type": "display_data"
    }
   ],
   "source": [
    "testPath = 'D:/ksu/Box/0.jpg'\n",
    "print('testPath : %s' % testPath)\n",
    "predict_img(testPath)"
   ]
  },
  {
   "cell_type": "code",
   "execution_count": 14,
   "metadata": {},
   "outputs": [
    {
     "name": "stdout",
     "output_type": "stream",
     "text": [
      "testPath : D:/ksu/Box/0 (2).jpg\n",
      "[[[119 115 114 119 123 123 121 124 126 124 118 118 119 122 127 123 118\n",
      "   116 121 123 122 120 121 121 116 118 121 124]\n",
      "  [119 119 118 119 122 122 118 119 117 115 114 115 118 120 116 114 115\n",
      "   121 122 121 119 120 123 124 118 116 117 119]\n",
      "  [116 118 119 115 117 116 113 116 115 116 122 110 110 114 109 105 104\n",
      "   105 109 115 118 113 118 121 118 118 118 118]\n",
      "  [117 118 116 110 115 117 117 118 109 102 101  94  87  79  74  74  76\n",
      "    75  81  95 108 108 112 114 114 117 120 120]\n",
      "  [119 119 116 113 116 116 116 114 104  91  82  76  68  60  57  58  60\n",
      "    60  61  69  81  94 104 110 114 118 120 121]\n",
      "  [116 117 119 121 120 115 109 102  93  81  68  61  63  72  80  77  71\n",
      "    67  63  61  64  78  93 105 112 117 120 120]\n",
      "  [114 115 119 123 120 115 106  94  82  69  58  60  72  89 105 104  94\n",
      "    83  76  69  65  69  78  91 103 113 117 117]\n",
      "  [120 120 118 113 112 110 105  96  82  71  67  79  90  98 106 109 105\n",
      "    96  83  71  63  60  65  77  93 106 111 112]\n",
      "  [114 118 118 110 109 103  92  81  65  58  65  75  92 108 107 108 109\n",
      "   109  96  79  66  61  66  79  95 106 110 109]\n",
      "  [118 115 115 119 115 103  89  79  67  65  79  90 104 112 105 107 110\n",
      "   107 101  94  86  78  72  74  87 101 109 112]\n",
      "  [118 117 114 111 106  95  79  68  62  65  78  92 107 116 112 114 115\n",
      "   110 102  91  78  63  62  71  83  97 107 110]\n",
      "  [116 117 115 109 107  95  75  59  53  55  65  79  94 107 109 115 120\n",
      "   116 110  98  82  60  52  58  71  87  98 104]\n",
      "  [116 117 114 108 106  94  75  57  52  57  67  85  99 107 108 112 114\n",
      "   112 108  98  82  60  51  55  69  86  99 105]\n",
      "  [117 116 113 109 105  92  75  61  56  62  75  95 106 110 111 113 115\n",
      "   115 111 103  89  70  58  59  72  89 100 106]\n",
      "  [117 116 113 111 106  93  76  64  58  64  80  96 106 110 113 114 117\n",
      "   118 111 102  88  70  59  59  71  87  98 104]\n",
      "  [117 116 113 110 106  94  77  65  60  66  82  97 106 111 113 113 113\n",
      "   114 106  96  81  65  56  57  70  85  97 103]\n",
      "  [114 115 113 107 107  97  81  65  63  70  82  99 110 117 119 114 111\n",
      "   114 108  98  85  71  60  59  72  87 101 108]\n",
      "  [112 116 117 111 115 106  87  66  60  63  70  90 105 115 121 116 115\n",
      "   118 111  99  83  66  58  59  72  88 101 108]\n",
      "  [116 115 114 114 114 105  89  77  62  54  58  78  92  98 102 108 113\n",
      "   115 108  96  82  67  58  58  70  83  97 106]\n",
      "  [115 114 114 117 114 107  97  92  74  60  58  67  84 101 104 103 103\n",
      "   108 107  98  82  64  56  58  68  80  94 104]\n",
      "  [117 118 119 114 116 114 109 104  96  86  76  80  88  96 104 110 115\n",
      "   115 110 102  90  76  67  66  74  82  96 106]\n",
      "  [119 117 116 118 116 114 112 113 103  95  93  96 101 106 105 106 108\n",
      "   112 107 100  96  99  93  90  94  97 106 114]\n",
      "  [111 113 114 113 114 114 111 104  97  90  84  81  83  90  97 101 101\n",
      "    97  88  81  80  85  95 104 108 110 114 118]\n",
      "  [103 106 111 112 112 112 110 101  93  84  72  64  62  67  75  81  84\n",
      "    79  68  60  58  67  83  97 107 111 115 118]\n",
      "  [103 106 111 115 113 113 114 110 103  94  82  69  64  63  62  60  61\n",
      "    64  61  58  58  68  79  91 104 110 114 116]\n",
      "  [109 112 117 116 117 119 121 115 116 113 102  93  87  84  80  73  67\n",
      "    69  75  79  81  86  94 103 112 114 116 117]\n",
      "  [114 115 117 120 121 122 122 116 117 118 117 119 118 116 114 111 109\n",
      "   108 106 104 105 116 115 116 120 118 118 119]\n",
      "  [113 111 113 118 116 118 120 116 114 118 126 120 115 113 112 115 116\n",
      "   111 112 117 120 110 112 116 118 118 118 117]]]\n",
      "test_pre : [3.64638290e-05 1.60168412e-08 1.50923763e-04 6.16623089e-02\n",
      " 3.30810792e-08 1.18597114e-07 1.45507083e-05 1.24750399e-09\n",
      " 9.38130915e-01 4.65112498e-06]\n",
      "pre_label : 8\n"
     ]
    },
    {
     "data": {
      "image/png": "[encoded data removed]",
      "text/plain": [
       "<Figure size 432x288 with 1 Axes>"
      ]
     },
     "metadata": {
      "needs_background": "light"
     },
     "output_type": "display_data"
    }
   ],
   "source": [
    "testPath = 'D:/ksu/Box/0 (2).jpg'\n",
    "print('testPath : %s' % testPath)\n",
    "predict_img(testPath)"
   ]
  },
  {
   "cell_type": "code",
   "execution_count": 15,
   "metadata": {},
   "outputs": [
    {
     "name": "stdout",
     "output_type": "stream",
     "text": [
      "testPath : D:/ksu/Box/1 (1).jpg\n",
      "[[[201 201 204 210 215 214 207 200 190 183 180 164 162 165 156 175 195\n",
      "   203 204 212 216 198 205 214 214 216 211 204]\n",
      "  [181 187 198 206 199 199 203 198 195 187 174 179 169 155 169 175 180\n",
      "   186 197 206 213 215 216 217 218 215 215 217]\n",
      "  [184 194 202 202 201 198 193 185 175 163 154 156 165 174 173 186 194\n",
      "   189 190 199 209 209 208 207 208 214 221 226]\n",
      "  [182 192 197 193 193 190 182 167 150 133 120 126 135 147 157 162 174\n",
      "   196 200 206 212 205 209 212 210 206 211 219]\n",
      "  [182 191 194 187 183 178 169 150 134 118 107 109 115 126 148 160 171\n",
      "   188 200 205 208 213 208 203 203 205 208 212]\n",
      "  [185 194 198 188 189 180 162 147 130 118 114 113 120 134 152 173 184\n",
      "   180 193 198 200 214 209 204 206 212 211 209]\n",
      "  [191 198 201 195 196 189 175 166 151 139 133 132 138 148 158 170 183\n",
      "   190 194 196 198 201 212 219 218 214 209 206]\n",
      "  [204 204 204 202 190 189 194 190 187 177 162 153 152 157 164 171 184\n",
      "   201 197 196 199 195 202 208 207 210 207 203]\n",
      "  [203 201 202 207 204 201 199 191 184 178 170 164 157 153 160 175 187\n",
      "   190 193 196 201 206 207 207 208 205 204 205]\n",
      "  [203 202 203 206 199 195 195 192 189 185 176 161 152 147 137 142 153\n",
      "   167 189 202 207 206 202 200 204 210 212 211]\n",
      "  [203 205 205 201 203 203 201 204 202 197 188 169 155 142 121 129 145\n",
      "   160 184 199 203 199 203 206 206 205 205 203]\n",
      "  [206 203 200 199 198 195 192 191 177 160 150 143 140 141 153 161 168\n",
      "   177 185 194 200 199 206 211 210 207 207 208]\n",
      "  [201 203 204 203 202 201 196 187 181 173 162 147 143 148 151 165 179\n",
      "   186 197 207 210 199 206 213 212 210 210 212]\n",
      "  [202 202 203 203 206 205 202 202 191 179 170 150 136 133 142 157 173\n",
      "   186 194 203 209 207 206 207 208 210 212 212]\n",
      "  [204 202 201 203 200 199 200 196 188 179 166 148 138 137 145 155 166\n",
      "   175 183 194 204 204 207 208 208 209 207 203]\n",
      "  [203 203 204 206 197 196 196 187 187 184 170 153 147 149 145 156 169\n",
      "   174 188 199 205 201 206 210 209 210 206 201]\n",
      "  [202 204 205 202 204 200 195 203 191 177 168 148 134 129 134 153 173\n",
      "   189 198 203 207 215 210 207 211 213 215 217]\n",
      "  [202 203 202 199 195 193 194 190 183 170 153 127 120 127 129 147 164\n",
      "   176 191 203 210 214 220 223 222 218 217 217]\n",
      "  [203 204 205 203 201 201 202 198 199 195 182 167 154 147 153 159 174\n",
      "   198 198 207 219 216 216 216 217 217 217 216]\n",
      "  [202 202 203 201 204 202 199 202 194 190 192 174 160 151 138 139 152\n",
      "   170 185 201 211 206 209 212 213 215 216 216]\n",
      "  [206 197 191 196 202 207 208 210 199 186 175 163 150 138 126 130 143\n",
      "   161 170 185 198 198 201 206 208 212 215 216]\n",
      "  [186 183 186 197 201 203 203 201 204 196 179 178 174 168 167 167 172\n",
      "   181 183 191 201 202 205 209 211 215 218 219]\n",
      "  [186 194 201 202 207 209 208 206 200 186 166 161 160 163 174 183 189\n",
      "   192 200 205 208 216 214 213 215 216 218 218]\n",
      "  [200 200 201 205 211 209 204 207 196 177 155 149 144 143 157 175 187\n",
      "   192 202 203 203 217 215 211 213 213 213 213]\n",
      "  [202 195 194 205 206 205 203 204 195 181 164 161 152 144 154 165 176\n",
      "   188 194 196 200 209 214 215 215 216 216 216]\n",
      "  [195 197 200 203 200 206 213 206 194 183 176 166 158 155 162 167 176\n",
      "   189 193 199 207 206 213 219 217 218 218 217]\n",
      "  [200 201 201 198 205 203 198 197 195 188 175 166 162 165 169 184 198\n",
      "   203 200 199 202 204 205 204 203 202 200 198]\n",
      "  [207 206 206 206 214 212 205 206 206 201 195 194 191 187 183 184 193\n",
      "   208 206 202 203 217 216 213 213 212 211 210]]]\n",
      "test_pre : [8.5871812e-05 8.6063188e-12 3.5874510e-07 1.9119893e-06 1.5666899e-09\n",
      " 1.0997157e-07 4.3430026e-07 5.4900376e-11 9.9991107e-01 2.0318141e-07]\n",
      "pre_label : 8\n"
     ]
    },
    {
     "data": {
      "image/png": "[encoded data removed]",
      "text/plain": [
       "<Figure size 432x288 with 1 Axes>"
      ]
     },
     "metadata": {
      "needs_background": "light"
     },
     "output_type": "display_data"
    }
   ],
   "source": [
    "testPath = 'D:/ksu/Box/1 (1).jpg'\n",
    "print('testPath : %s' % testPath)\n",
    "predict_img(testPath)"
   ]
  },
  {
   "cell_type": "code",
   "execution_count": 16,
   "metadata": {},
   "outputs": [
    {
     "name": "stdout",
     "output_type": "stream",
     "text": [
      "testPath : D:/ksu/Box/1 (2).jpg\n",
      "[[[121 122 124 125 124 120 116 123 125 126 128 120 119 121 116 116 118\n",
      "   121 122 125 126 120 123 128 130 125 124 127]\n",
      "  [123 123 123 122 124 124 124 121 123 125 123 119 117 115 111 109 111\n",
      "   118 119 119 118 120 123 125 128 124 124 126]\n",
      "  [122 123 125 124 126 126 126 119 124 128 123 118 107  96  97 100 105\n",
      "   112 119 123 125 129 125 123 127 124 125 127]\n",
      "  [118 121 125 125 125 124 122 117 121 122 114 103  93  86  87  94 105\n",
      "   116 121 120 118 124 125 127 129 129 129 129]\n",
      "  [115 119 123 124 124 124 122 121 117 108  96  80  70  68  74  89 103\n",
      "   113 117 119 119 120 123 126 127 128 128 128]\n",
      "  [119 119 119 120 122 121 117 114 101  85  74  59  53  56  65  83  98\n",
      "   105 109 116 124 123 123 122 122 125 124 123]\n",
      "  [124 121 117 116 116 110 100  90  75  61  55  50  51  57  64  81  97\n",
      "   106 108 114 121 126 125 123 122 125 123 121]\n",
      "  [123 122 119 115 112 105  94  80  72  65  61  60  55  52  65  84 101\n",
      "   109 115 120 123 121 125 127 125 129 128 125]\n",
      "  [120 121 121 119 120 121 119 109 109 107  97  86  73  61  65  78  93\n",
      "   106 115 117 116 116 123 127 124 127 125 121]\n",
      "  [121 122 121 116 117 120 122 119 114 108 101  90  82  79  79  91 104\n",
      "   110 112 116 120 119 126 131 128 120 119 122]\n",
      "  [122 122 119 114 113 115 117 118 117 113 107  93  82  76  73  79  90\n",
      "   101 109 118 124 122 124 128 131 128 129 131]\n",
      "  [120 121 120 115 114 116 118 119 117 112 104  89  76  69  70  79  92\n",
      "   107 115 121 126 121 118 120 127 129 130 129]\n",
      "  [119 121 122 120 118 118 119 119 117 110  98  85  72  64  67  77  93\n",
      "   110 115 121 126 124 119 118 125 127 125 123]\n",
      "  [119 122 123 121 119 119 118 119 118 110  99  90  80  75  79  82  91\n",
      "   106 114 121 127 123 121 122 127 127 124 120]\n",
      "  [121 122 123 121 119 118 118 120 120 114 102  91  80  72  78  85  94\n",
      "   106 110 116 122 123 122 123 128 128 124 121]\n",
      "  [121 122 122 121 121 120 119 121 121 116 105  90  74  63  69  80  93\n",
      "   105 108 111 117 122 121 121 127 128 125 123]\n",
      "  [121 121 121 122 122 121 120 122 123 118 107  98  86  75  75  80  90\n",
      "   102 114 118 118 116 119 123 128 125 123 124]\n",
      "  [122 121 120 119 121 120 120 122 124 122 112 106  90  72  70  84 100\n",
      "   113 119 121 119 125 123 123 126 121 122 124]\n",
      "  [121 122 120 115 121 126 127 121 119 117 111 103  87  73  78  86  97\n",
      "   111 114 116 118 125 125 124 124 129 130 130]\n",
      "  [122 122 121 118 119 121 123 121 119 116 114 105  88  72  67  68  80\n",
      "   101 114 118 119 122 127 127 121 120 119 117]\n",
      "  [121 121 121 122 120 120 123 124 121 116 114 111 100  88  85  84  90\n",
      "   103 112 115 116 118 123 124 123 126 126 125]\n",
      "  [115 117 119 119 118 120 123 126 119 111 105  93  80  72  80  93 104\n",
      "   113 121 125 126 123 125 125 121 121 121 119]\n",
      "  [109 117 124 125 124 123 122 119 115 110 104  93  83  78  86  98 106\n",
      "   110 115 122 126 128 129 126 121 119 118 117]\n",
      "  [114 120 125 120 122 123 121 116 114 110 101  93  88  86  85  90  99\n",
      "   109 117 119 119 123 122 119 117 119 121 121]\n",
      "  [121 124 125 119 120 121 122 117 116 113 106  96  93  91  82  85  96\n",
      "   111 120 119 115 117 117 115 114 117 120 121]\n",
      "  [121 124 128 128 127 125 122 117 118 119 121 115 110 106 100 102 106\n",
      "   108 112 115 117 120 125 124 118 118 118 118]\n",
      "  [121 119 119 120 120 122 123 122 119 118 119 121 117 111 115 124 127\n",
      "   117 115 119 123 121 123 124 122 125 127 127]\n",
      "  [130 124 121 125 119 115 114 118 121 122 120 119 119 119 120 121 122\n",
      "   121 117 120 125 122 119 120 125 127 129 129]]]\n",
      "test_pre : [1.3605474e-01 4.3183140e-10 2.0215124e-05 8.7089262e-05 5.2932143e-07\n",
      " 2.7881308e-07 2.2674847e-05 1.6310933e-08 8.6114067e-01 2.6737840e-03]\n",
      "pre_label : 8\n"
     ]
    },
    {
     "data": {
      "image/png": "[encoded data removed]",
      "text/plain": [
       "<Figure size 432x288 with 1 Axes>"
      ]
     },
     "metadata": {
      "needs_background": "light"
     },
     "output_type": "display_data"
    }
   ],
   "source": [
    "testPath = 'D:/ksu/Box/1 (2).jpg'\n",
    "print('testPath : %s' % testPath)\n",
    "predict_img(testPath)"
   ]
  },
  {
   "cell_type": "code",
   "execution_count": 17,
   "metadata": {},
   "outputs": [
    {
     "name": "stdout",
     "output_type": "stream",
     "text": [
      "testPath : D:/ksu/Box/2 (2).jpg\n",
      "[[[188 190 190 185 183 188 192 184 183 182 180 185 183 177 175 178 180\n",
      "   179 187 190 189 191 189 187 189 191 190 189]\n",
      "  [186 182 180 183 184 186 185 180 177 174 168 151 143 140 132 144 158\n",
      "   163 181 184 178 186 189 191 194 187 184 185]\n",
      "  [179 181 184 189 179 167 157 144 129 119 113 109 105 101  99 105 122\n",
      "   148 166 175 180 188 191 192 192 186 180 177]\n",
      "  [179 184 186 179 158 141 129 118 103  94  94  94  94  93  91  86  94\n",
      "   118 137 154 170 182 182 185 195 191 190 191]\n",
      "  [170 171 167 155 135 117 106 103 106 112 118 126 126 119 109  95  91\n",
      "   102 123 145 165 179 181 182 188 188 186 186]\n",
      "  [152 156 157 146 128 107  93  97 116 136 147 163 164 154 141 123 107\n",
      "   100 111 129 150 167 178 181 178 178 178 179]\n",
      "  [132 147 155 143 123 103  91 101 123 146 162 173 175 171 162 151 131\n",
      "   105 102 108 123 143 164 177 177 175 180 187]\n",
      "  [124 134 137 125 107  95  93 109 130 154 176 174 175 176 166 162 147\n",
      "   120 114 110 111 130 154 172 177 183 185 184]\n",
      "  [171 164 155 146 132 115 104 113 131 154 179 182 185 188 184 162 136\n",
      "   114  94  92 106 128 144 161 180 187 187 184]\n",
      "  [186 185 179 168 157 141 133 153 163 170 176 180 184 185 176 168 159\n",
      "   146 128 119 122 138 159 176 185 186 185 184]\n",
      "  [184 189 180 154 171 181 182 182 183 185 186 181 175 171 172 159 142\n",
      "   126 108 108 121 132 152 170 180 184 184 183]\n",
      "  [184 187 178 156 172 178 175 177 183 185 180 176 170 161 148 127 111\n",
      "   103  95  96 107 127 151 171 183 186 182 177]\n",
      "  [185 187 181 164 177 183 180 173 179 183 175 155 139 124 107  96  89\n",
      "    85  98 110 124 145 165 175 177 179 183 186]\n",
      "  [187 181 174 172 175 175 174 177 182 182 171 155 138 124 116 115 116\n",
      "   115 131 143 153 168 177 180 179 179 182 184]\n",
      "  [186 180 173 167 174 175 171 167 158 149 142 135 128 123 122 130 140\n",
      "   148 162 166 168 182 187 187 186 185 184 183]\n",
      "  [184 187 179 160 178 185 176 153 124 107 106  95  96 104 108 128 146\n",
      "   158 174 176 171 182 187 188 186 187 185 182]\n",
      "  [185 186 180 168 175 171 158 148 122 104 102  95 102 118 132 155 171\n",
      "   175 184 184 177 176 180 183 183 185 182 175]\n",
      "  [184 187 185 171 163 146 128 120 110 108 117 125 141 160 172 176 180\n",
      "   188 185 182 185 188 191 191 185 186 188 188]\n",
      "  [185 182 174 159 151 141 132 134 137 143 153 162 169 177 185 191 187\n",
      "   173 180 187 189 185 189 191 186 187 189 191]\n",
      "  [111 128 140 136 118 105  99  95 100 111 129 154 167 173 187 190 189\n",
      "   186 181 182 188 189 185 180 178 177 182 188]\n",
      "  [128 134 140 142 136 118  98 101 112 128 146 167 176 177 184 184 186\n",
      "   194 185 183 186 189 188 190 194 190 185 183]\n",
      "  [150 151 149 142 125 113 110 116 132 148 158 172 178 178 176 177 182\n",
      "   190 189 185 180 181 179 184 194 193 189 185]\n",
      "  [145 151 153 145 131 123 124 134 146 159 170 168 172 178 179 184 185\n",
      "   181 183 182 180 184 181 180 184 182 185 190]\n",
      "  [141 144 142 130 119 116 119 119 120 128 140 140 140 141 146 153 157\n",
      "   154 158 165 171 177 181 182 180 176 180 186]\n",
      "  [158 152 144 134 120 115 111  98  93  93  97 106 103  97 100 105 110\n",
      "   112 118 130 142 150 162 173 177 175 178 181]\n",
      "  [182 175 169 171 167 152 133 123 121 119 112 114 113 112 116 116 114\n",
      "   109 108 116 127 135 145 159 175 176 178 181]\n",
      "  [192 183 177 181 182 182 180 170 171 175 177 166 164 171 174 176 174\n",
      "   171 168 166 165 167 166 172 186 183 182 184]\n",
      "  [181 180 183 191 187 182 179 183 182 184 189 176 176 181 174 171 174\n",
      "   181 177 175 177 188 186 184 187 189 189 189]]]\n",
      "test_pre : [5.2883916e-02 1.0459845e-09 2.1734956e-04 1.6028443e-08 8.7878201e-03\n",
      " 1.8401536e-03 8.2927996e-01 2.3760725e-08 1.0085014e-01 6.1406204e-03]\n",
      "pre_label : 6\n"
     ]
    },
    {
     "data": {
      "image/png": "[encoded data removed]",
      "text/plain": [
       "<Figure size 432x288 with 1 Axes>"
      ]
     },
     "metadata": {
      "needs_background": "light"
     },
     "output_type": "display_data"
    }
   ],
   "source": [
    "testPath = 'D:/ksu/Box/2 (2).jpg'\n",
    "print('testPath : %s' % testPath)\n",
    "predict_img(testPath)"
   ]
  },
  {
   "cell_type": "code",
   "execution_count": null,
   "metadata": {},
   "outputs": [],
   "source": []
  }
 ],
 "metadata": {
  "kernelspec": {
   "display_name": "Python 3",
   "language": "python",
   "name": "python3"
  },
  "language_info": {
   "codemirror_mode": {
    "name": "ipython",
    "version": 3
   },
   "file_extension": ".py",
   "mimetype": "text/x-python",
   "name": "python",
   "nbconvert_exporter": "python",
   "pygments_lexer": "ipython3",
   "version": "3.8.5"
  }
 },
 "nbformat": 4,
 "nbformat_minor": 4
}
